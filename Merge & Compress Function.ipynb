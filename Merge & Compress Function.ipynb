{
 "cells": [
  {
   "cell_type": "code",
   "execution_count": null,
   "metadata": {},
   "outputs": [],
   "source": [
    "def merge(mat):\n",
    "    changed = False  # default value\n",
    "    for i in range(4):\n",
    "        for j in range(3):  # as mat[i][j+1] --> OUT OF RANGE\n",
    "            if (mat[i][j] == mat[i][j+1] and mat[i][j]!=0):  \n",
    "                \n",
    "                mat[i][j] = mat[i][j+1]*2  # obv?\n",
    "                mat[i][j+1] = 0  # important\n",
    "                \n",
    "                changed = True  # as if it any position the above the condition is TRUE then the Merging is done and hence\n",
    "                # the CHANGE REQD. IS HAPPENING.\n",
    "                \n",
    "    return mat,changed\n",
    "\n",
    "def compress(mat):\n",
    "    new_mat = []\n",
    "    changed = False  # default value\n",
    "    for i in range(4):  # self - explanatory\n",
    "        new_mat.append([0]*4)\n",
    "        \n",
    "    for i in range(4):\n",
    "        pos = 0  # v.imp ( as everytime you do onto the new row pos = 0)\n",
    "        for j in range(4): \n",
    "            if(mat[i][j] != 0):\n",
    "                new_mat[i][pos] = mat[i][j] \n",
    "                \n",
    "                if j!=pos:\n",
    "                    changed = True # THIS MEANS IF ANY POSITION THE CHANGE IS HAPPENING MEANING IF A POSITION OF ANY ELEMENT\n",
    "                    # IS NOT AS THE PREV/ORIGINAL ARRAY, THEN THE COMRESSION IS DONE.\n",
    "                    \n",
    "                pos+=1  # pos will move only when non - 0 element occurs.\n",
    "            \n",
    "    return new_mat,changed"
   ]
  }
 ],
 "metadata": {
  "kernelspec": {
   "display_name": "Python 3",
   "language": "python",
   "name": "python3"
  },
  "language_info": {
   "codemirror_mode": {
    "name": "ipython",
    "version": 3
   },
   "file_extension": ".py",
   "mimetype": "text/x-python",
   "name": "python",
   "nbconvert_exporter": "python",
   "pygments_lexer": "ipython3",
   "version": "3.8.1"
  }
 },
 "nbformat": 4,
 "nbformat_minor": 4
}
