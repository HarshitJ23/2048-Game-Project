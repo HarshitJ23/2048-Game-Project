{
 "cells": [
  {
   "cell_type": "markdown",
   "metadata": {},
   "source": [
    "### applied the changes(rectification in the code)\n",
    "\n",
    "#### ONLY THE COMPRESS OR MERGE WILL IMPLY ANY CHANGES IN THE CODE..\n",
    "#### THAT'S WHY THESE 2 FUNCTION WILL RETURN 2 THINGS: 1) NEW_MATRIX , 2) CHANGED --> T or F\n",
    "#### AND THEN ONLY WE HAVE TO ADD_NEW_2\n",
    "#### ELSE NOT"
   ]
  },
  {
   "cell_type": "code",
   "execution_count": null,
   "metadata": {},
   "outputs": [],
   "source": [
    "def move_up(grid):\n",
    "    transposed_grid = transpose(grid)\n",
    "    new_grid,changed1 = compress(transposed_grid)\n",
    "    new_grid,changed2 = merge(new_grid)\n",
    "    changed = changed1 or changed2\n",
    "    new_grid = compress(new_grid)\n",
    "    final_grid = transpose(new_grid)\n",
    "    return final_grid,changed\n",
    "\n",
    "def move_down(grid):\n",
    "    transposed_grid = transpose(grid)\n",
    "    reversed_grid = reverse(transposed_grid)\n",
    "    new_grid,changed1 = compress(reversed_grid)\n",
    "    new_grid,changed2 = merge(new_grid)\n",
    "    changed = changed1 or changed2\n",
    "    new_grid = compress(new_grid)\n",
    "    final_reversed_grid = reverse(new_grid)\n",
    "    final_grid = transpose(final_reversed_grid)\n",
    "    return final_grid,changed\n",
    "\n",
    "def move_right(grid):\n",
    "    reversed_grid = reverse(grid)\n",
    "    new_grid,changed1 = compress(reversed_grid)\n",
    "    new_grid,changed2 = merge(new_grid)\n",
    "    changed = changed1 or changed2\n",
    "    new_grid = compress(new_grid)\n",
    "    final_grid = reverse(new_grid)\n",
    "    return final_grid,changed\n",
    "\n",
    "def move_left(grid):\n",
    "    new_grid,changed1 = compress(grid)\n",
    "    new_grid,changed2 = merge(new_grid)\n",
    "    changed = changed1 or changed2\n",
    "    new_grid = compress(new_grid)\n",
    "    return new_grid,changed"
   ]
  }
 ],
 "metadata": {
  "kernelspec": {
   "display_name": "Python 3",
   "language": "python",
   "name": "python3"
  },
  "language_info": {
   "codemirror_mode": {
    "name": "ipython",
    "version": 3
   },
   "file_extension": ".py",
   "mimetype": "text/x-python",
   "name": "python",
   "nbconvert_exporter": "python",
   "pygments_lexer": "ipython3",
   "version": "3.8.1"
  }
 },
 "nbformat": 4,
 "nbformat_minor": 4
}
