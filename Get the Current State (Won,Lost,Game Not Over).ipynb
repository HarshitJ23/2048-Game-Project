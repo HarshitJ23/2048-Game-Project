{
 "cells": [
  {
   "cell_type": "code",
   "execution_count": null,
   "metadata": {},
   "outputs": [],
   "source": [
    "def get_current_state(mat):\n",
    "    ## IF ANYWHERE '2048' IS PRESENT --> WON\n",
    "    for i in range(4):\n",
    "        for j in range(4):\n",
    "            if(mat[i][j] == 2048):\n",
    "                return 'WON'\n",
    "            \n",
    "    ## IF ANYWHERE '0' IS PRESENT --> GAME STILL NOT OVER\n",
    "    for i in range(4):\n",
    "        for j in range(4):\n",
    "            if(mat[i][j] == 0):\n",
    "                return 'GAME NOT OVER'\n",
    "    \n",
    "    ## IF THERE'S ANY CONSECUTIVE SAME NUMBER..\n",
    "    \n",
    "    # 1) CHECK IN EVERY ROW/COL EXCEPT THE LAST R/C\n",
    "    for i in range(3):  # '3 not 4' as the last r/c is excluded\n",
    "        for j in range(3):\n",
    "            if(mat[i][j] == mat[i][j+1] or mat[i][j] == mat[i+1][j]):  # checked down/right\n",
    "                return 'GAME NOT OVER'\n",
    "            \n",
    "    # 2) CHECK IN LAST ROW  (i--> Fixed, j--> Variable)\n",
    "    for j in range(3):\n",
    "        if(mat[3][j] == mat[3][j+1]):\n",
    "            return 'GAME NOT OVER'\n",
    "        \n",
    "    # 3) CHECK IN LAST COLUMN  (i--> Variable, j--> Fixed)\n",
    "    for i in range(3):\n",
    "        if(mat[i][3] == mat[i+1][3]):\n",
    "            return 'GAME NOT OVER'\n",
    "        \n",
    "    # NOTE:- 'i and j' for last row/col will still go till '3' only and not 4.\n",
    "    \n",
    "    return 'LOST'  # as all are checked and they are False so it means you have LOST\n"
   ]
  }
 ],
 "metadata": {
  "kernelspec": {
   "display_name": "Python 3",
   "language": "python",
   "name": "python3"
  },
  "language_info": {
   "codemirror_mode": {
    "name": "ipython",
    "version": 3
   },
   "file_extension": ".py",
   "mimetype": "text/x-python",
   "name": "python",
   "nbconvert_exporter": "python",
   "pygments_lexer": "ipython3",
   "version": "3.8.1"
  }
 },
 "nbformat": 4,
 "nbformat_minor": 4
}
