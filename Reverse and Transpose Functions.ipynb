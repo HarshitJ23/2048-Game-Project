{
 "cells": [
  {
   "cell_type": "code",
   "execution_count": 1,
   "metadata": {},
   "outputs": [],
   "source": [
    "def reverse(mat):\n",
    "    new_mat = []\n",
    "    for i in range(4):\n",
    "        new_mat.append([])  # appended a new list at each new ROW\n",
    "        for j in range(4):\n",
    "            # At each COLUMN, append something in each 'i'th LIST\n",
    "            # 0-->3 = 4-0-1 (0 wala 3 pe gaya ele)\n",
    "            # 1-->2 = 4-1-1\n",
    "            # 2-->1 = 4-2-1\n",
    "            # 3-->0 = 4-3-1\n",
    "            # GENERALIZED FORMULA IS --> 4-j-1\n",
    "            new_mat[i].append(mat[i][4-j-1])  # Generalized the Formula\n",
    "    return new_mat\n",
    "\n",
    "def transpose(mat):\n",
    "    new_mat = []\n",
    "    for i in range(4):\n",
    "        new_mat.append([])\n",
    "        for j in range(4):\n",
    "            new_mat[i].append(mat[j][i])  # Self - Explanatory\n",
    "    return new_mat"
   ]
  }
 ],
 "metadata": {
  "kernelspec": {
   "display_name": "Python 3",
   "language": "python",
   "name": "python3"
  },
  "language_info": {
   "codemirror_mode": {
    "name": "ipython",
    "version": 3
   },
   "file_extension": ".py",
   "mimetype": "text/x-python",
   "name": "python",
   "nbconvert_exporter": "python",
   "pygments_lexer": "ipython3",
   "version": "3.8.1"
  }
 },
 "nbformat": 4,
 "nbformat_minor": 4
}
