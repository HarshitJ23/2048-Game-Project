{
 "cells": [
  {
   "cell_type": "markdown",
   "metadata": {},
   "source": [
    "## 1) Start the Game\n",
    "\n",
    "## 2) Add the 'new 2 randomly'"
   ]
  },
  {
   "cell_type": "code",
   "execution_count": 1,
   "metadata": {},
   "outputs": [],
   "source": [
    "import random  # included the random library\n",
    "\n",
    "def start_game():\n",
    "    mat = []\n",
    "    for i in range(4):\n",
    "        mat.append([0]*4)\n",
    "    # THIS MEANS 4 TIMES --> [0,0,0,0] WILL BE ADDED IN A 2-D LIST\n",
    "    return mat\n",
    "\n",
    "def add_new_2(mat):\n",
    "    \n",
    "    r = random.randint(0,3)  # for rows\n",
    "    c = random.randint(0,3)  # for columns\n",
    "    \n",
    "    while(mat[r][c] != 0):  # empty space means 0 present at that posi..\n",
    "        \n",
    "    # WE HAVE TO KEEP GENERATE A RANDOM INTEGER (POSITION)\n",
    "    # JAISE HI '0' AYA TOH HUMEIN USKO '2' SE UPDATE KARDENA HAII.. \n",
    "        r = random.randint(0,3)  \n",
    "        c = random.randint(0,3) \n",
    "    mat[r][c] = 2"
   ]
  }
 ],
 "metadata": {
  "kernelspec": {
   "display_name": "Python 3",
   "language": "python",
   "name": "python3"
  },
  "language_info": {
   "codemirror_mode": {
    "name": "ipython",
    "version": 3
   },
   "file_extension": ".py",
   "mimetype": "text/x-python",
   "name": "python",
   "nbconvert_exporter": "python",
   "pygments_lexer": "ipython3",
   "version": "3.8.1"
  }
 },
 "nbformat": 4,
 "nbformat_minor": 4
}
